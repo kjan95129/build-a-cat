{
 "cells": [
  {
   "cell_type": "code",
   "execution_count": 5,
   "metadata": {},
   "outputs": [
    {
     "ename": "TypeError",
     "evalue": "cannot concatenate 'str' and 'int' objects",
     "output_type": "error",
     "traceback": [
      "\u001b[1;31m---------------------------------------------------------------------------\u001b[0m",
      "\u001b[1;31mTypeError\u001b[0m                                 Traceback (most recent call last)",
      "\u001b[1;32m<ipython-input-5-d4e633722563>\u001b[0m in \u001b[0;36m<module>\u001b[1;34m()\u001b[0m\n\u001b[0;32m     57\u001b[0m                 \u001b[0moutputFile\u001b[0m\u001b[1;33m.\u001b[0m\u001b[0mwrite\u001b[0m\u001b[1;33m(\u001b[0m\u001b[1;34m\"db.run(\\\"\"\u001b[0m\u001b[1;33m)\u001b[0m\u001b[1;33m\u001b[0m\u001b[0m\n\u001b[0;32m     58\u001b[0m                 \u001b[0moutputFile\u001b[0m\u001b[1;33m.\u001b[0m\u001b[0mwrite\u001b[0m\u001b[1;33m(\u001b[0m\u001b[1;34m\"INSERT INTO all_cats (eyes, ears, nose_mouth, picture) \"\u001b[0m\u001b[1;33m)\u001b[0m\u001b[1;33m\u001b[0m\u001b[0m\n\u001b[1;32m---> 59\u001b[1;33m                 \u001b[0moutputFile\u001b[0m\u001b[1;33m.\u001b[0m\u001b[0mwrite\u001b[0m\u001b[1;33m(\u001b[0m\u001b[1;34m\"VALUES ('\"\u001b[0m \u001b[1;33m+\u001b[0m \u001b[0meyeCat\u001b[0m \u001b[1;33m+\u001b[0m \u001b[1;34m\"', '\"\u001b[0m \u001b[1;33m+\u001b[0m \u001b[0mearCat\u001b[0m \u001b[1;33m+\u001b[0m \u001b[1;34m\"', '\"\u001b[0m\u001b[1;33m)\u001b[0m\u001b[1;33m\u001b[0m\u001b[0m\n\u001b[0m\u001b[0;32m     60\u001b[0m                 \u001b[0moutputFile\u001b[0m\u001b[1;33m.\u001b[0m\u001b[0mwrite\u001b[0m\u001b[1;33m(\u001b[0m\u001b[0meyeMouthCat\u001b[0m \u001b[1;33m+\u001b[0m \u001b[1;34m\"', \"\u001b[0m\u001b[1;33m)\u001b[0m\u001b[1;33m\u001b[0m\u001b[0m\n\u001b[0;32m     61\u001b[0m                 \u001b[0moutputFile\u001b[0m\u001b[1;33m.\u001b[0m\u001b[0mwrite\u001b[0m\u001b[1;33m(\u001b[0m\u001b[1;34m\"'https://res.cloudinary.com/dczoi0wxt/image/upload/\"\u001b[0m\u001b[1;33m)\u001b[0m\u001b[1;33m\u001b[0m\u001b[0m\n",
      "\u001b[1;31mTypeError\u001b[0m: cannot concatenate 'str' and 'int' objects"
     ]
    }
   ],
   "source": [
    "\"\"\"\n",
    "Purpose of script: \n",
    "    find distance between ears, between eyes, between mouth and nose\n",
    "    convert distances into ratios\n",
    "    generate INSERT statement into an output txt file\n",
    "        contains cat photo file name\n",
    "            (eg https://res.cloudinary.com/dczoi0wxt/image/upload/00000001_000.jpg)\n",
    "        and ratio\n",
    "\"\"\"\n",
    "\"\"\"\n",
    "SQL table name: all_cats\n",
    "    columns to insert: eyes, ears, nose_mouth\n",
    "\"\"\"\n",
    "\n",
    "\"\"\"from pathlib import Path\n",
    "\n",
    "pathlist = Path('cats/CAT_00').glob('**/*.cat')\n",
    "for path in pathlist:\n",
    "    # becaues path is object and not a string\n",
    "    path_in_str = str(path)\n",
    "    #print(path_in_str)\"\"\"\n",
    "import os\n",
    "import math\n",
    "\n",
    "directory = \"cats\" #cats/CAT_00\n",
    "outputFile = open(\"insertStatements.txt\", \"w\")\n",
    "\n",
    "# go through all the cat data and access just the .cat annotation files\n",
    "for subdir, dirs, files in os.walk(directory):\n",
    "    for file in files:\n",
    "        # print os.path.join(subdir, file)\n",
    "        filepath = subdir + os.sep + file\n",
    "        \n",
    "        if filepath.endswith(\".cat\"):\n",
    "            # print (filepath)\n",
    "            annotation = \"\"\n",
    "            with open(filepath, \"r\") as file_object:\n",
    "                annotation = file_object.read().replace('\\n', '')\n",
    "            \n",
    "            annotatPts = annotation.split(\" \")\n",
    "            # if there are exactly nine points on image, as expected\n",
    "            if annotatPts[0] == \"9\":\n",
    "                # insert some calculations small, medium, large\n",
    "                eyeLXY = (int(annotatPts[1]), int(annotatPts[2]))\n",
    "                eyeRXY = (int(annotatPts[3]), int(annotatPts[4]))\n",
    "                mouthXY = (int(annotatPts[5]), int(annotatPts[6]))\n",
    "                earLXY2 = (int(annotatPts[9]), int(annotatPts[10]))\n",
    "                earRXY2 = (int(annotatPts[15]), int(annotatPts[16]))\n",
    "                midPteyesXY = (abs(eyeLXY[0]-eyeRXY[0])/2, abs(eyeLXY[1]-eyeRXY[1])/2)\n",
    "                eyeDist = math.hypot(eyeLXY[0]-eyeRXY[0], eyeLXY[1]-eyeRXY[1])\n",
    "                earDist = math.hypot(earLXY2[0]-earRXY2[0], earLXY2[1]-earRXY2[1])\n",
    "                eyeMouthDist = math.hypot(mouthXY[0]-midPteyesXY[0], mouthXY[1]-midPteyesXY[1])\n",
    "                eyeCat = \"1\"\n",
    "                earCat = str(earDist/eyeDist)\n",
    "                eyeMouthCat = str(eyeMouthDist/eyeDist)\n",
    "                \n",
    "                outputFile.write(\"db.run(\\\"\")\n",
    "                outputFile.write(\"INSERT INTO all_cats (eyes, ears, nose_mouth, picture) \")\n",
    "                outputFile.write(\"VALUES ('\" + eyeCat + \"', '\" + earCat + \"', '\")\n",
    "                outputFile.write(eyeMouthCat + \"', \")\n",
    "                outputFile.write(\"'https://res.cloudinary.com/dczoi0wxt/image/upload/\")\n",
    "                outputFile.write(file + \"')\\\");\\n\")\n",
    "            file_object.close()\n",
    "    \n",
    "    \n",
    "outputFile.close()"
   ]
  },
  {
   "cell_type": "code",
   "execution_count": null,
   "metadata": {
    "collapsed": true
   },
   "outputs": [],
   "source": []
  }
 ],
 "metadata": {
  "kernelspec": {
   "display_name": "Python 2",
   "language": "python",
   "name": "python2"
  },
  "language_info": {
   "codemirror_mode": {
    "name": "ipython",
    "version": 2
   },
   "file_extension": ".py",
   "mimetype": "text/x-python",
   "name": "python",
   "nbconvert_exporter": "python",
   "pygments_lexer": "ipython2",
   "version": "2.7.13"
  }
 },
 "nbformat": 4,
 "nbformat_minor": 2
}

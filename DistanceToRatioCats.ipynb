{
 "cells": [
  {
   "cell_type": "code",
   "execution_count": 7,
   "metadata": {},
   "outputs": [],
   "source": [
    "\"\"\"\n",
    "Purpose of script: \n",
    "    find distance between ears, between eyes, between mouth and nose\n",
    "    convert distances into ratios\n",
    "    generate INSERT statement into an output txt file\n",
    "        contains cat photo file name\n",
    "            (eg https://res.cloudinary.com/dczoi0wxt/image/upload/00000001_000.jpg)\n",
    "        and ratio\n",
    "\"\"\"\n",
    "\"\"\"\n",
    "SQL table name: all_cats\n",
    "    columns to insert: eyes, ears, nose_mouth\n",
    "\"\"\"\n",
    "\n",
    "\"\"\"from pathlib import Path\n",
    "\n",
    "pathlist = Path('cats/CAT_00').glob('**/*.cat')\n",
    "for path in pathlist:\n",
    "    # becaues path is object and not a string\n",
    "    path_in_str = str(path)\n",
    "    #print(path_in_str)\"\"\"\n",
    "import os\n",
    "\n",
    "directory = \"cats\" #cats/CAT_00\n",
    "outputFile = open(\"insertStatements.txt\", \"w\")\n",
    "\n",
    "# go through all the cat data and access just the .cat annotation files\n",
    "for subdir, dirs, files in os.walk(directory):\n",
    "    for file in files:\n",
    "        # print os.path.join(subdir, file)\n",
    "        filepath = subdir + os.sep + file\n",
    "        \n",
    "        if filepath.endswith(\".cat\"):\n",
    "            # print (filepath)\n",
    "            file_object = open(filepath, \"r\")\n",
    "            # insert some calculations small, medium, large\n",
    "            eyeDist = \"small\"\n",
    "            earDist = \"small\"\n",
    "            noseMouthDist = \"small\"\n",
    "            outputFile.write(\"db.run(\\\"\")\n",
    "            outputFile.write(\"INSERT INTO all_cats (eyes, ears, nose_mouth, picture) \")\n",
    "            outputFile.write(\"VALUES ('\" + eyeDist + \"', '\" + earDist + \"', '\")\n",
    "            outputFile.write(noseMouthDist + \"', \")\n",
    "            outputFile.write(\"'https://res.cloudinary.com/dczoi0wxt/image/upload/\")\n",
    "            outputFile.write(file + \"')\\\");\\n\")\n",
    "            file_object.close()\n",
    "    \n",
    "    \n",
    "outputFile.close()"
   ]
  },
  {
   "cell_type": "code",
   "execution_count": null,
   "metadata": {
    "collapsed": true
   },
   "outputs": [],
   "source": []
  }
 ],
 "metadata": {
  "kernelspec": {
   "display_name": "Python 2",
   "language": "python",
   "name": "python2"
  },
  "language_info": {
   "codemirror_mode": {
    "name": "ipython",
    "version": 2
   },
   "file_extension": ".py",
   "mimetype": "text/x-python",
   "name": "python",
   "nbconvert_exporter": "python",
   "pygments_lexer": "ipython2",
   "version": "2.7.13"
  }
 },
 "nbformat": 4,
 "nbformat_minor": 2
}
